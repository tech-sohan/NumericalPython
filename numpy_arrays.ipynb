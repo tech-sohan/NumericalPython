{
  "nbformat": 4,
  "nbformat_minor": 0,
  "metadata": {
    "anaconda-cloud": {},
    "kernelspec": {
      "display_name": "Python 3",
      "language": "python",
      "name": "python3"
    },
    "language_info": {
      "codemirror_mode": {
        "name": "ipython",
        "version": 3
      },
      "file_extension": ".py",
      "mimetype": "text/x-python",
      "name": "python",
      "nbconvert_exporter": "python",
      "pygments_lexer": "ipython3",
      "version": "3.7.6"
    },
    "colab": {
      "name": "numpy_arrays.ipynb",
      "provenance": [],
      "include_colab_link": true
    }
  },
  "cells": [
    {
      "cell_type": "markdown",
      "metadata": {
        "id": "view-in-github",
        "colab_type": "text"
      },
      "source": [
        "<a href=\"https://colab.research.google.com/github/tech-sohan/NumericalPython/blob/main/numpy_arrays.ipynb\" target=\"_parent\"><img src=\"https://colab.research.google.com/assets/colab-badge.svg\" alt=\"Open In Colab\"/></a>"
      ]
    },
    {
      "cell_type": "markdown",
      "metadata": {
        "id": "74COclSIgZ8j"
      },
      "source": [
        "# Numpy Arrays"
      ]
    },
    {
      "cell_type": "markdown",
      "metadata": {
        "id": "g_PIZV-IgZ85"
      },
      "source": [
        "We'll import the `numpy` module using the short form `np` to save us typing. "
      ]
    },
    {
      "cell_type": "code",
      "metadata": {
        "id": "kLQ3Ga8-gZ89"
      },
      "source": [
        "import numpy as np # imports a fast numerical programming library"
      ],
      "execution_count": null,
      "outputs": []
    },
    {
      "cell_type": "markdown",
      "metadata": {
        "id": "IVhJdhl-gZ9B"
      },
      "source": [
        "![](https://github.com/tech-sohan/NumericalPython/blob/main/numpy_arrays.slides.dir/2.png?raw=1)"
      ]
    },
    {
      "cell_type": "markdown",
      "metadata": {
        "id": "NLAk5eB7gZ9D"
      },
      "source": [
        "## Starting up with numpy arrays\n",
        "\n",
        "Scientific Python code uses a fast array structure, called the numpy array. Those who have worked in Matlab will find this very natural.   For reference, the numpy documention can be found [here](https://docs.scipy.org/doc/numpy/reference/).  \n",
        "\n",
        "Let's make a numpy array."
      ]
    },
    {
      "cell_type": "code",
      "metadata": {
        "id": "PEZkkcI5gZ9H",
        "outputId": "940ddaaf-c54b-4b5c-b385-2bdf51870179"
      },
      "source": [
        "my_array = np.array([1, 2, 3, 4])\n",
        "my_array"
      ],
      "execution_count": null,
      "outputs": [
        {
          "output_type": "execute_result",
          "data": {
            "text/plain": [
              "array([1, 2, 3, 4])"
            ]
          },
          "metadata": {
            "tags": []
          },
          "execution_count": 4
        }
      ]
    },
    {
      "cell_type": "markdown",
      "metadata": {
        "id": "YA5VRWo5gZ9Q"
      },
      "source": [
        "Numpy arrays are listy! Below we compute length, slice, and iterate. "
      ]
    },
    {
      "cell_type": "code",
      "metadata": {
        "id": "VvJzTBCHgZ9S",
        "outputId": "c592a1b0-596e-4bbc-bf8a-63a0d7a4ef76"
      },
      "source": [
        "print(len(my_array))\n",
        "print(my_array[2:4])\n",
        "for ele in my_array:\n",
        "    print(ele)"
      ],
      "execution_count": null,
      "outputs": [
        {
          "output_type": "stream",
          "text": [
            "4\n",
            "[3 4]\n",
            "1\n",
            "2\n",
            "3\n",
            "4\n"
          ],
          "name": "stdout"
        }
      ]
    },
    {
      "cell_type": "markdown",
      "metadata": {
        "id": "PH4LTaGsgZ9T"
      },
      "source": [
        "**However, in general you should manipulate numpy arrays by using numpy module functions** (`np.mean`, for example). This is for efficiency purposes, see the Vanderplas book. But briefly:\n",
        "\n",
        "1. numpy arrays are typed, you keep ints together or floats together. They are not meant to combine objects of different types like python lists do.\n",
        "2. numpy arrays are defined in the C language. You do not have to convert between python floats and C floats for example. Python types are different from the corresponding C-types because Python is garbage collected.\n",
        "\n",
        "You can calculate the mean of the array elements either by calling the method `.mean` on a numpy array or by applying the function np.mean with the numpy array as an argument."
      ]
    },
    {
      "cell_type": "code",
      "metadata": {
        "id": "dmeKhY7cgZ-a",
        "outputId": "80a72cc2-f3c7-4ea5-e9b4-31a7214d9f55"
      },
      "source": [
        "print(my_array.mean())\n",
        "print(np.mean(my_array))"
      ],
      "execution_count": null,
      "outputs": [
        {
          "output_type": "stream",
          "text": [
            "2.5\n",
            "2.5\n"
          ],
          "name": "stdout"
        }
      ]
    },
    {
      "cell_type": "markdown",
      "metadata": {
        "id": "ljvO4FM4gZ-b"
      },
      "source": [
        "The way we constructed the numpy array above seems redundant..after all we already had a regular python list. Indeed, it is the other ways we have to construct numpy arrays that make them super useful. \n",
        "\n",
        "There are many such numpy array *constructors*. Here are some commonly used constructors. Look them up in the documentation."
      ]
    },
    {
      "cell_type": "code",
      "metadata": {
        "id": "JP6Prng_gZ-e",
        "outputId": "8c5a4abc-15dd-4f63-b078-dec8c3f7e54c"
      },
      "source": [
        "np.ones(10) # generates 10 floating point ones"
      ],
      "execution_count": null,
      "outputs": [
        {
          "output_type": "execute_result",
          "data": {
            "text/plain": [
              "array([1., 1., 1., 1., 1., 1., 1., 1., 1., 1.])"
            ]
          },
          "metadata": {
            "tags": []
          },
          "execution_count": 7
        }
      ]
    },
    {
      "cell_type": "markdown",
      "metadata": {
        "id": "42UjEfqigZ-h"
      },
      "source": [
        "**Numpy gains a lot of its efficiency from being typed**. That is, all elements in the array have the same type, such as integer or floating point. The default type, as can be seen above, is a float of size appropriate for the machine (64 bit on a 64 bit machine)."
      ]
    },
    {
      "cell_type": "code",
      "metadata": {
        "id": "32N26MHSgZ-j",
        "outputId": "1530816a-8d1d-4d8d-b553-d4ce31e2ae4b"
      },
      "source": [
        "np.dtype(float).itemsize # in bytes"
      ],
      "execution_count": null,
      "outputs": [
        {
          "output_type": "execute_result",
          "data": {
            "text/plain": [
              "8"
            ]
          },
          "metadata": {
            "tags": []
          },
          "execution_count": 8
        }
      ]
    },
    {
      "cell_type": "code",
      "metadata": {
        "id": "B8-er3LdgZ-l",
        "outputId": "fd54c9e9-04ae-416a-9dfb-12b5ade3820f"
      },
      "source": [
        "np.ones(10, dtype='int') # generates 10 integer ones"
      ],
      "execution_count": null,
      "outputs": [
        {
          "output_type": "execute_result",
          "data": {
            "text/plain": [
              "array([1, 1, 1, 1, 1, 1, 1, 1, 1, 1])"
            ]
          },
          "metadata": {
            "tags": []
          },
          "execution_count": 9
        }
      ]
    },
    {
      "cell_type": "code",
      "metadata": {
        "id": "Jody-Sm5gZ-y",
        "outputId": "88582091-4e5d-41bb-8eb8-ac6a7f529cd2"
      },
      "source": [
        "np.ones(10).dtype"
      ],
      "execution_count": null,
      "outputs": [
        {
          "output_type": "execute_result",
          "data": {
            "text/plain": [
              "dtype('float64')"
            ]
          },
          "metadata": {
            "tags": []
          },
          "execution_count": 10
        }
      ]
    },
    {
      "cell_type": "markdown",
      "metadata": {
        "id": "f-HiXjXwgZ-1"
      },
      "source": [
        "## Numpy supports vector operations\n",
        "\n",
        "What does this mean? It means that instead of adding two arrays, element by element, you can just say: add the two arrays. Note that this behavior is very different from python lists.\n",
        "\n",
        "![](https://github.com/tech-sohan/NumericalPython/blob/main/numpy_arrays.slides.dir/3.png?raw=1)"
      ]
    },
    {
      "cell_type": "code",
      "metadata": {
        "id": "t4ynwMDegZ-2",
        "outputId": "1167d89f-6b7b-405a-e155-4b8006a52738"
      },
      "source": [
        "first = np.ones(5)\n",
        "second = np.ones(5)\n",
        "first + second"
      ],
      "execution_count": null,
      "outputs": [
        {
          "output_type": "execute_result",
          "data": {
            "text/plain": [
              "array([2., 2., 2., 2., 2.])"
            ]
          },
          "metadata": {
            "tags": []
          },
          "execution_count": 11
        }
      ]
    },
    {
      "cell_type": "code",
      "metadata": {
        "id": "8k3ky8n-gZ-4",
        "outputId": "916db69c-20f5-42d5-91ff-753a7065cd81"
      },
      "source": [
        "first_list = [1., 1., 1., 1., 1.]\n",
        "second_list = [1., 1., 1., 1., 1.]\n",
        "first_list + second_list #not what u want"
      ],
      "execution_count": null,
      "outputs": [
        {
          "output_type": "execute_result",
          "data": {
            "text/plain": [
              "[1.0, 1.0, 1.0, 1.0, 1.0, 1.0, 1.0, 1.0, 1.0, 1.0]"
            ]
          },
          "metadata": {
            "tags": []
          },
          "execution_count": 12
        }
      ]
    },
    {
      "cell_type": "markdown",
      "metadata": {
        "id": "C4mQPemIgZ-5"
      },
      "source": [
        "On some computer chips this addition actually happens in parallel, so speedups can be high. But even on regular chips, the advantage of greater readability is important."
      ]
    },
    {
      "cell_type": "markdown",
      "metadata": {
        "id": "-esHzSHLgZ-5"
      },
      "source": [
        "Numpy supports a concept known as *broadcasting*, which dictates how arrays of different sizes are combined together. There are too many rules to list here, but importantly, multiplying an array by a number multiplies each element by the number. Adding a number adds the number to each element."
      ]
    },
    {
      "cell_type": "code",
      "metadata": {
        "id": "RUti5S53gZ-6",
        "outputId": "9fa8594f-ad3a-4c03-ef1f-1eb66dfec14a"
      },
      "source": [
        "first + 1"
      ],
      "execution_count": null,
      "outputs": [
        {
          "output_type": "execute_result",
          "data": {
            "text/plain": [
              "array([2., 2., 2., 2., 2.])"
            ]
          },
          "metadata": {
            "tags": []
          },
          "execution_count": 13
        }
      ]
    },
    {
      "cell_type": "code",
      "metadata": {
        "id": "RkNNGSdtgZ-7",
        "outputId": "77aaf614-dd3c-43bc-fb63-3193e2ae47e0"
      },
      "source": [
        "first*5"
      ],
      "execution_count": null,
      "outputs": [
        {
          "output_type": "execute_result",
          "data": {
            "text/plain": [
              "array([5., 5., 5., 5., 5.])"
            ]
          },
          "metadata": {
            "tags": []
          },
          "execution_count": 14
        }
      ]
    },
    {
      "cell_type": "markdown",
      "metadata": {
        "id": "3f1tObYrgZ-8"
      },
      "source": [
        "## 2D arrays\n",
        "\n",
        "Similarly, we can create two-dimensional arrays.\n",
        "\n",
        "![](https://github.com/tech-sohan/NumericalPython/blob/main/numpy_arrays.slides.dir/6.png?raw=1)"
      ]
    },
    {
      "cell_type": "code",
      "metadata": {
        "id": "3DoL0C-QgZ_A",
        "outputId": "64e95889-13ba-4ad1-92d2-d9fd94a5e10b"
      },
      "source": [
        "my_array2d = np.array([ [1, 2, 3, 4], [5, 6, 7, 8], [9, 10, 11, 12] ])\n",
        "my_array2d"
      ],
      "execution_count": null,
      "outputs": [
        {
          "output_type": "execute_result",
          "data": {
            "text/plain": [
              "array([[ 1,  2,  3,  4],\n",
              "       [ 5,  6,  7,  8],\n",
              "       [ 9, 10, 11, 12]])"
            ]
          },
          "metadata": {
            "tags": []
          },
          "execution_count": 15
        }
      ]
    },
    {
      "cell_type": "code",
      "metadata": {
        "id": "s4r7knPWgZ_B",
        "outputId": "5f0f2c8a-4f61-4348-9764-b4a2661537a3"
      },
      "source": [
        "# 3 x 4 array of ones\n",
        "ones_2d = np.ones([3, 4])\n",
        "ones_2d"
      ],
      "execution_count": null,
      "outputs": [
        {
          "output_type": "execute_result",
          "data": {
            "text/plain": [
              "array([[1., 1., 1., 1.],\n",
              "       [1., 1., 1., 1.],\n",
              "       [1., 1., 1., 1.]])"
            ]
          },
          "metadata": {
            "tags": []
          },
          "execution_count": 16
        }
      ]
    },
    {
      "cell_type": "markdown",
      "metadata": {
        "id": "RqMoUNnIgZ_D"
      },
      "source": [
        "Like lists, numpy arrays are 0-indexed.  Thus we can access the $n$th row and the $m$th column of a two-dimensional array with the indices $[n - 1, m - 1]$."
      ]
    },
    {
      "cell_type": "code",
      "metadata": {
        "id": "pq86dg0JgZ_E",
        "outputId": "d2813089-8b99-48eb-9912-922dadad6f8c"
      },
      "source": [
        "print(my_array2d)\n",
        "my_array2d[2, 3]"
      ],
      "execution_count": null,
      "outputs": [
        {
          "output_type": "stream",
          "text": [
            "[[ 1  2  3  4]\n",
            " [ 5  6  7  8]\n",
            " [ 9 10 11 12]]\n"
          ],
          "name": "stdout"
        },
        {
          "output_type": "execute_result",
          "data": {
            "text/plain": [
              "12"
            ]
          },
          "metadata": {
            "tags": []
          },
          "execution_count": 17
        }
      ]
    },
    {
      "cell_type": "markdown",
      "metadata": {
        "id": "yN1bicNTgZ_G"
      },
      "source": [
        "The 2D arrays are listy as well. They have set length (array dimensions), can be sliced, and can be iterated over with loop.  Below is a schematic illustrating slicing two-dimensional arrays.  \n",
        "\n",
        " <img src=\"https://github.com/tech-sohan/NumericalPython/blob/main/images/2dindex_v2.png?raw=1\" alt=\"Drawing\" style=\"width: 500px;\"/>"
      ]
    },
    {
      "cell_type": "markdown",
      "metadata": {
        "id": "GilplIApgZ_I"
      },
      "source": [
        "In two dimensions, we need to provide the **shape** of the array, ie, the number of rows and columns of the array."
      ]
    },
    {
      "cell_type": "code",
      "metadata": {
        "id": "8j-HpUNAgZ_J",
        "outputId": "97410f57-24ca-4a8d-8686-8526fc1cef62"
      },
      "source": [
        "onesarray = np.ones([3,4])\n",
        "onesarray"
      ],
      "execution_count": null,
      "outputs": [
        {
          "output_type": "execute_result",
          "data": {
            "text/plain": [
              "array([[1., 1., 1., 1.],\n",
              "       [1., 1., 1., 1.],\n",
              "       [1., 1., 1., 1.]])"
            ]
          },
          "metadata": {
            "tags": []
          },
          "execution_count": 18
        }
      ]
    },
    {
      "cell_type": "code",
      "metadata": {
        "id": "LiOniW2BgZ_K",
        "outputId": "d29feca3-dec7-4850-ea3d-5cc9a0bd9691"
      },
      "source": [
        "onesarray.shape"
      ],
      "execution_count": null,
      "outputs": [
        {
          "output_type": "execute_result",
          "data": {
            "text/plain": [
              "(3, 4)"
            ]
          },
          "metadata": {
            "tags": []
          },
          "execution_count": 19
        }
      ]
    },
    {
      "cell_type": "markdown",
      "metadata": {
        "id": "YtumsfLygZ_L"
      },
      "source": [
        "Numpy functions will by default work on the entire array:"
      ]
    },
    {
      "cell_type": "code",
      "metadata": {
        "id": "fdPb7h3rgZ_M",
        "outputId": "3f9d8aaa-a76b-4429-9ae8-2fa687291eec"
      },
      "source": [
        "np.sum(onesarray)"
      ],
      "execution_count": null,
      "outputs": [
        {
          "output_type": "execute_result",
          "data": {
            "text/plain": [
              "12.0"
            ]
          },
          "metadata": {
            "tags": []
          },
          "execution_count": 20
        }
      ]
    },
    {
      "cell_type": "markdown",
      "metadata": {
        "id": "-PfGkmRJgZ_l"
      },
      "source": [
        "The axis 0 is the one going downwards (the $y$-axis, so to speak), whereas axis 1 is the one going across (the $x$-axis). You will often use functions such as `mean`, `sum`, with an axis."
      ]
    },
    {
      "cell_type": "code",
      "metadata": {
        "id": "b6ddPe5agZ_m",
        "outputId": "60a7f1ff-65fd-43fc-fe19-b428b80dfab8"
      },
      "source": [
        "np.sum(onesarray, axis=0)"
      ],
      "execution_count": null,
      "outputs": [
        {
          "output_type": "execute_result",
          "data": {
            "text/plain": [
              "array([3., 3., 3., 3.])"
            ]
          },
          "metadata": {
            "tags": []
          },
          "execution_count": 21
        }
      ]
    },
    {
      "cell_type": "code",
      "metadata": {
        "id": "CZfOuWS7gZ_p",
        "outputId": "8cc6f26a-c967-41c8-d4d1-646e9d555bd2"
      },
      "source": [
        "np.sum(my_array2d, axis=0)"
      ],
      "execution_count": null,
      "outputs": [
        {
          "output_type": "execute_result",
          "data": {
            "text/plain": [
              "array([15, 18, 21, 24])"
            ]
          },
          "metadata": {
            "tags": []
          },
          "execution_count": 22
        }
      ]
    },
    {
      "cell_type": "code",
      "metadata": {
        "id": "kcslbLuxgZ_q",
        "outputId": "c5103fb7-268c-4b58-db50-635f0be2d69c"
      },
      "source": [
        "np.sum(onesarray, axis=1)"
      ],
      "execution_count": null,
      "outputs": [
        {
          "output_type": "execute_result",
          "data": {
            "text/plain": [
              "array([4., 4., 4.])"
            ]
          },
          "metadata": {
            "tags": []
          },
          "execution_count": 23
        }
      ]
    },
    {
      "cell_type": "markdown",
      "metadata": {
        "id": "8eJLt_EhgZ_r"
      },
      "source": [
        "You should notice that access is row-by-row and one dimensional iteration gives a row. This is because `numpy` lays out memory row-wise.\n",
        "\n",
        "![](https://github.com/tech-sohan/NumericalPython/blob/main/images/2d-array-layout.png?raw=1)\n",
        "\n",
        "(from https://aaronbloomfield.github.io)"
      ]
    },
    {
      "cell_type": "markdown",
      "metadata": {
        "id": "Xl-2W0_AgZ_z"
      },
      "source": [
        "An often seen idiom allocates a two-dimensional array, and then fills in one-dimensional arrays from some function:"
      ]
    },
    {
      "cell_type": "code",
      "metadata": {
        "id": "FW40Q7xQgZ_0",
        "outputId": "4635ab1d-610f-486c-824a-1fca5021439a"
      },
      "source": [
        "empty_array = np.empty((2,3))\n",
        "empty_array"
      ],
      "execution_count": null,
      "outputs": [
        {
          "output_type": "execute_result",
          "data": {
            "text/plain": [
              "array([[0., 0., 0.],\n",
              "       [0., 0., 0.]])"
            ]
          },
          "metadata": {
            "tags": []
          },
          "execution_count": 25
        }
      ]
    },
    {
      "cell_type": "code",
      "metadata": {
        "id": "_-1LatpxgZ_1",
        "outputId": "26a99a49-b6a3-4776-8df2-36920dde19e3"
      },
      "source": [
        "for i in range(empty_array.shape[0]):\n",
        "    print(empty_array[i])"
      ],
      "execution_count": null,
      "outputs": [
        {
          "output_type": "stream",
          "text": [
            "[0. 0. 0.]\n",
            "[0. 0. 0.]\n"
          ],
          "name": "stdout"
        }
      ]
    },
    {
      "cell_type": "code",
      "metadata": {
        "id": "ZqFThIHjgZ_2",
        "outputId": "d8a9bf39-e5f8-4155-bdd2-2d78bc84f638"
      },
      "source": [
        "for i in range(empty_array.shape[0]):\n",
        "    empty_array[i] = np.random.rand(3)\n",
        "empty_array"
      ],
      "execution_count": null,
      "outputs": [
        {
          "output_type": "execute_result",
          "data": {
            "text/plain": [
              "array([[0.68625855, 0.09451053, 0.9559449 ],\n",
              "       [0.03386545, 0.08089574, 0.84962253]])"
            ]
          },
          "metadata": {
            "tags": []
          },
          "execution_count": 29
        }
      ]
    },
    {
      "cell_type": "markdown",
      "metadata": {
        "id": "83h4RuIxgZ_3"
      },
      "source": [
        "## Pandas and numpy\n",
        "\n",
        "You can very easily convert from Pandas to numpy. Just use the `.values` attribute on a pandas dataframe or series."
      ]
    },
    {
      "cell_type": "code",
      "metadata": {
        "id": "PofULypygZ_3",
        "outputId": "531a1394-3907-4a73-c160-d7c28803e223"
      },
      "source": [
        "import pandas as pd\n",
        "combined = pd.read_csv('data/combined_population_votes.csv')\n",
        "combined.head()"
      ],
      "execution_count": null,
      "outputs": [
        {
          "output_type": "execute_result",
          "data": {
            "text/html": [
              "<div>\n",
              "<style scoped>\n",
              "    .dataframe tbody tr th:only-of-type {\n",
              "        vertical-align: middle;\n",
              "    }\n",
              "\n",
              "    .dataframe tbody tr th {\n",
              "        vertical-align: top;\n",
              "    }\n",
              "\n",
              "    .dataframe thead th {\n",
              "        text-align: right;\n",
              "    }\n",
              "</style>\n",
              "<table border=\"1\" class=\"dataframe\">\n",
              "  <thead>\n",
              "    <tr style=\"text-align: right;\">\n",
              "      <th></th>\n",
              "      <th>State</th>\n",
              "      <th>Population</th>\n",
              "      <th>Votes</th>\n",
              "      <th>popmills</th>\n",
              "    </tr>\n",
              "  </thead>\n",
              "  <tbody>\n",
              "    <tr>\n",
              "      <th>0</th>\n",
              "      <td>Alaska</td>\n",
              "      <td>710000</td>\n",
              "      <td>3</td>\n",
              "      <td>0.710</td>\n",
              "    </tr>\n",
              "    <tr>\n",
              "      <th>1</th>\n",
              "      <td>Alabama</td>\n",
              "      <td>4780000</td>\n",
              "      <td>9</td>\n",
              "      <td>4.780</td>\n",
              "    </tr>\n",
              "    <tr>\n",
              "      <th>2</th>\n",
              "      <td>Arkansas</td>\n",
              "      <td>2916000</td>\n",
              "      <td>6</td>\n",
              "      <td>2.916</td>\n",
              "    </tr>\n",
              "    <tr>\n",
              "      <th>3</th>\n",
              "      <td>Arizona</td>\n",
              "      <td>6392000</td>\n",
              "      <td>11</td>\n",
              "      <td>6.392</td>\n",
              "    </tr>\n",
              "    <tr>\n",
              "      <th>4</th>\n",
              "      <td>California</td>\n",
              "      <td>37254000</td>\n",
              "      <td>55</td>\n",
              "      <td>37.254</td>\n",
              "    </tr>\n",
              "  </tbody>\n",
              "</table>\n",
              "</div>"
            ],
            "text/plain": [
              "        State  Population  Votes  popmills\n",
              "0      Alaska      710000      3     0.710\n",
              "1     Alabama     4780000      9     4.780\n",
              "2    Arkansas     2916000      6     2.916\n",
              "3     Arizona     6392000     11     6.392\n",
              "4  California    37254000     55    37.254"
            ]
          },
          "metadata": {
            "tags": []
          },
          "execution_count": 30
        }
      ]
    },
    {
      "cell_type": "markdown",
      "metadata": {
        "id": "ScmyMSHNgZ_4"
      },
      "source": [
        "For a Series Object:"
      ]
    },
    {
      "cell_type": "code",
      "metadata": {
        "id": "roJFcJE_gZ_5",
        "outputId": "24bdf42a-1b9d-42ba-a04d-3a8737d6f665"
      },
      "source": [
        "combined.Votes.values"
      ],
      "execution_count": null,
      "outputs": [
        {
          "output_type": "execute_result",
          "data": {
            "text/plain": [
              "array([ 3,  9,  6, 11, 55,  9,  7,  3,  3, 29, 16,  4,  6,  4, 20, 11,  6,\n",
              "        8,  8, 11, 10,  4, 16, 10, 10,  6,  3, 15,  3,  5,  4, 14,  5,  6,\n",
              "       29, 18,  7,  7, 20,  4,  9,  3, 11, 38,  6, 13,  3, 12, 10,  5,  3])"
            ]
          },
          "metadata": {
            "tags": []
          },
          "execution_count": 31
        }
      ]
    },
    {
      "cell_type": "markdown",
      "metadata": {
        "id": "NNPTH7nWgZ_6"
      },
      "source": [
        "For a Dataframe:"
      ]
    },
    {
      "cell_type": "code",
      "metadata": {
        "id": "40lq_S_agZ_7",
        "outputId": "b91f8b3e-da45-425a-a8d3-2540be2937f2"
      },
      "source": [
        "combined[['popmills', 'Votes']].values"
      ],
      "execution_count": null,
      "outputs": [
        {
          "output_type": "execute_result",
          "data": {
            "text/plain": [
              "array([[ 0.71 ,  3.   ],\n",
              "       [ 4.78 ,  9.   ],\n",
              "       [ 2.916,  6.   ],\n",
              "       [ 6.392, 11.   ],\n",
              "       [37.254, 55.   ],\n",
              "       [ 5.029,  9.   ],\n",
              "       [ 3.574,  7.   ],\n",
              "       [ 0.602,  3.   ],\n",
              "       [ 0.898,  3.   ],\n",
              "       [18.801, 29.   ],\n",
              "       [ 9.688, 16.   ],\n",
              "       [ 1.36 ,  4.   ],\n",
              "       [ 3.046,  6.   ],\n",
              "       [ 1.568,  4.   ],\n",
              "       [12.831, 20.   ],\n",
              "       [ 6.484, 11.   ],\n",
              "       [ 2.853,  6.   ],\n",
              "       [ 4.339,  8.   ],\n",
              "       [ 4.533,  8.   ],\n",
              "       [ 6.548, 11.   ],\n",
              "       [ 5.774, 10.   ],\n",
              "       [ 1.328,  4.   ],\n",
              "       [ 9.884, 16.   ],\n",
              "       [ 5.304, 10.   ],\n",
              "       [ 5.989, 10.   ],\n",
              "       [ 2.967,  6.   ],\n",
              "       [ 0.989,  3.   ],\n",
              "       [ 9.535, 15.   ],\n",
              "       [ 0.673,  3.   ],\n",
              "       [ 1.826,  5.   ],\n",
              "       [ 1.316,  4.   ],\n",
              "       [ 8.792, 14.   ],\n",
              "       [ 2.059,  5.   ],\n",
              "       [ 2.701,  6.   ],\n",
              "       [19.378, 29.   ],\n",
              "       [11.537, 18.   ],\n",
              "       [ 3.751,  7.   ],\n",
              "       [ 3.831,  7.   ],\n",
              "       [12.702, 20.   ],\n",
              "       [ 1.053,  4.   ],\n",
              "       [ 4.625,  9.   ],\n",
              "       [ 0.814,  3.   ],\n",
              "       [ 6.346, 11.   ],\n",
              "       [25.146, 38.   ],\n",
              "       [ 2.764,  6.   ],\n",
              "       [ 8.001, 13.   ],\n",
              "       [ 0.626,  3.   ],\n",
              "       [ 6.725, 12.   ],\n",
              "       [ 5.687, 10.   ],\n",
              "       [ 1.853,  5.   ],\n",
              "       [ 0.564,  3.   ]])"
            ]
          },
          "metadata": {
            "tags": []
          },
          "execution_count": 32
        }
      ]
    },
    {
      "cell_type": "markdown",
      "metadata": {
        "id": "Gkby3HgHgZ_8"
      },
      "source": [
        "Using `values` then gives us a multi-dimensional numpy array (notice how the ints are cast to floats to keep the data types the same)."
      ]
    }
  ]
}